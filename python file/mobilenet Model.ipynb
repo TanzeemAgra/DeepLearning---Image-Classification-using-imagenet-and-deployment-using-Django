{
 "cells": [
  {
   "cell_type": "markdown",
   "metadata": {},
   "source": [
    "https://keras.io/applications/#mobilenet\n",
    "\n",
    "https://gist.github.com/yrevar/942d3a0ac09ec9e5eb3a#file-imagenet1000_clsidx_to_labels-txt"
   ]
  },
  {
   "cell_type": "code",
   "execution_count": 23,
   "metadata": {},
   "outputs": [
    {
     "name": "stdout",
     "output_type": "stream",
     "text": [
      "Requirement already satisfied: tensorflow in c:\\users\\hpc-windows-8\\.conda\\envs\\deep1\\lib\\site-packages (2.4.1)\n",
      "Requirement already satisfied: absl-py~=0.10 in c:\\users\\hpc-windows-8\\.conda\\envs\\deep1\\lib\\site-packages (from tensorflow) (0.11.0)\n",
      "Requirement already satisfied: wrapt~=1.12.1 in c:\\users\\hpc-windows-8\\.conda\\envs\\deep1\\lib\\site-packages (from tensorflow) (1.12.1)\n",
      "Requirement already satisfied: typing-extensions~=3.7.4 in c:\\users\\hpc-windows-8\\.conda\\envs\\deep1\\lib\\site-packages (from tensorflow) (3.7.4.3)\n",
      "Requirement already satisfied: grpcio~=1.32.0 in c:\\users\\hpc-windows-8\\.conda\\envs\\deep1\\lib\\site-packages (from tensorflow) (1.32.0)\n",
      "Requirement already satisfied: tensorflow-estimator<2.5.0,>=2.4.0 in c:\\users\\hpc-windows-8\\.conda\\envs\\deep1\\lib\\site-packages (from tensorflow) (2.4.0)\n",
      "Requirement already satisfied: numpy~=1.19.2 in c:\\users\\hpc-windows-8\\.conda\\envs\\deep1\\lib\\site-packages (from tensorflow) (1.19.5)\n",
      "Requirement already satisfied: tensorboard~=2.4 in c:\\users\\hpc-windows-8\\.conda\\envs\\deep1\\lib\\site-packages (from tensorflow) (2.4.1)\n",
      "Requirement already satisfied: protobuf>=3.9.2 in c:\\users\\hpc-windows-8\\.conda\\envs\\deep1\\lib\\site-packages (from tensorflow) (3.14.0)\n",
      "Requirement already satisfied: termcolor~=1.1.0 in c:\\users\\hpc-windows-8\\.conda\\envs\\deep1\\lib\\site-packages (from tensorflow) (1.1.0)\n",
      "Requirement already satisfied: six~=1.15.0 in c:\\users\\hpc-windows-8\\.conda\\envs\\deep1\\lib\\site-packages (from tensorflow) (1.15.0)\n",
      "Requirement already satisfied: flatbuffers~=1.12.0 in c:\\users\\hpc-windows-8\\.conda\\envs\\deep1\\lib\\site-packages (from tensorflow) (1.12)\n",
      "Requirement already satisfied: gast==0.3.3 in c:\\users\\hpc-windows-8\\.conda\\envs\\deep1\\lib\\site-packages (from tensorflow) (0.3.3)\n",
      "Requirement already satisfied: opt-einsum~=3.3.0 in c:\\users\\hpc-windows-8\\.conda\\envs\\deep1\\lib\\site-packages (from tensorflow) (3.3.0)\n",
      "Requirement already satisfied: wheel~=0.35 in c:\\users\\hpc-windows-8\\.conda\\envs\\deep1\\lib\\site-packages (from tensorflow) (0.36.2)\n",
      "Requirement already satisfied: keras-preprocessing~=1.1.2 in c:\\users\\hpc-windows-8\\.conda\\envs\\deep1\\lib\\site-packages (from tensorflow) (1.1.2)\n",
      "Requirement already satisfied: google-pasta~=0.2 in c:\\users\\hpc-windows-8\\.conda\\envs\\deep1\\lib\\site-packages (from tensorflow) (0.2.0)\n",
      "Requirement already satisfied: h5py~=2.10.0 in c:\\users\\hpc-windows-8\\.conda\\envs\\deep1\\lib\\site-packages (from tensorflow) (2.10.0)\n",
      "Requirement already satisfied: astunparse~=1.6.3 in c:\\users\\hpc-windows-8\\.conda\\envs\\deep1\\lib\\site-packages (from tensorflow) (1.6.3)\n",
      "Requirement already satisfied: markdown>=2.6.8 in c:\\users\\hpc-windows-8\\.conda\\envs\\deep1\\lib\\site-packages (from tensorboard~=2.4->tensorflow) (3.3.3)\n",
      "Requirement already satisfied: tensorboard-plugin-wit>=1.6.0 in c:\\users\\hpc-windows-8\\.conda\\envs\\deep1\\lib\\site-packages (from tensorboard~=2.4->tensorflow) (1.8.0)\n",
      "Requirement already satisfied: google-auth<2,>=1.6.3 in c:\\users\\hpc-windows-8\\.conda\\envs\\deep1\\lib\\site-packages (from tensorboard~=2.4->tensorflow) (1.25.0)\n",
      "Requirement already satisfied: google-auth-oauthlib<0.5,>=0.4.1 in c:\\users\\hpc-windows-8\\.conda\\envs\\deep1\\lib\\site-packages (from tensorboard~=2.4->tensorflow) (0.4.2)\n",
      "Requirement already satisfied: requests<3,>=2.21.0 in c:\\users\\hpc-windows-8\\.conda\\envs\\deep1\\lib\\site-packages (from tensorboard~=2.4->tensorflow) (2.25.1)\n",
      "Requirement already satisfied: setuptools>=41.0.0 in c:\\users\\hpc-windows-8\\.conda\\envs\\deep1\\lib\\site-packages (from tensorboard~=2.4->tensorflow) (52.0.0.post20210125)\n",
      "Requirement already satisfied: werkzeug>=0.11.15 in c:\\users\\hpc-windows-8\\.conda\\envs\\deep1\\lib\\site-packages (from tensorboard~=2.4->tensorflow) (1.0.1)\n",
      "Requirement already satisfied: pyasn1-modules>=0.2.1 in c:\\users\\hpc-windows-8\\.conda\\envs\\deep1\\lib\\site-packages (from google-auth<2,>=1.6.3->tensorboard~=2.4->tensorflow) (0.2.8)\n",
      "Requirement already satisfied: rsa<5,>=3.1.4 in c:\\users\\hpc-windows-8\\.conda\\envs\\deep1\\lib\\site-packages (from google-auth<2,>=1.6.3->tensorboard~=2.4->tensorflow) (4.7)\n",
      "Requirement already satisfied: cachetools<5.0,>=2.0.0 in c:\\users\\hpc-windows-8\\.conda\\envs\\deep1\\lib\\site-packages (from google-auth<2,>=1.6.3->tensorboard~=2.4->tensorflow) (4.2.1)\n",
      "Requirement already satisfied: requests-oauthlib>=0.7.0 in c:\\users\\hpc-windows-8\\.conda\\envs\\deep1\\lib\\site-packages (from google-auth-oauthlib<0.5,>=0.4.1->tensorboard~=2.4->tensorflow) (1.3.0)\n",
      "Requirement already satisfied: pyasn1<0.5.0,>=0.4.6 in c:\\users\\hpc-windows-8\\.conda\\envs\\deep1\\lib\\site-packages (from pyasn1-modules>=0.2.1->google-auth<2,>=1.6.3->tensorboard~=2.4->tensorflow) (0.4.8)\n",
      "Requirement already satisfied: chardet<5,>=3.0.2 in c:\\users\\hpc-windows-8\\.conda\\envs\\deep1\\lib\\site-packages (from requests<3,>=2.21.0->tensorboard~=2.4->tensorflow) (4.0.0)\n",
      "Requirement already satisfied: urllib3<1.27,>=1.21.1 in c:\\users\\hpc-windows-8\\.conda\\envs\\deep1\\lib\\site-packages (from requests<3,>=2.21.0->tensorboard~=2.4->tensorflow) (1.26.3)\n",
      "Requirement already satisfied: certifi>=2017.4.17 in c:\\users\\hpc-windows-8\\.conda\\envs\\deep1\\lib\\site-packages (from requests<3,>=2.21.0->tensorboard~=2.4->tensorflow) (2020.12.5)\n",
      "Requirement already satisfied: idna<3,>=2.5 in c:\\users\\hpc-windows-8\\.conda\\envs\\deep1\\lib\\site-packages (from requests<3,>=2.21.0->tensorboard~=2.4->tensorflow) (2.10)\n",
      "Requirement already satisfied: oauthlib>=3.0.0 in c:\\users\\hpc-windows-8\\.conda\\envs\\deep1\\lib\\site-packages (from requests-oauthlib>=0.7.0->google-auth-oauthlib<0.5,>=0.4.1->tensorboard~=2.4->tensorflow) (3.1.0)\n"
     ]
    }
   ],
   "source": [
    "!pip install tensorflow"
   ]
  },
  {
   "cell_type": "code",
   "execution_count": 24,
   "metadata": {},
   "outputs": [
    {
     "name": "stdout",
     "output_type": "stream",
     "text": [
      "2.4.1\n"
     ]
    }
   ],
   "source": [
    "import tensorflow as tf\n",
    "print(tf.__version__)"
   ]
  },
  {
   "cell_type": "code",
   "execution_count": 25,
   "metadata": {},
   "outputs": [],
   "source": [
    "from keras.applications import mobilenet"
   ]
  },
  {
   "cell_type": "code",
   "execution_count": 26,
   "metadata": {},
   "outputs": [],
   "source": [
    "model=mobilenet.MobileNet(include_top=True,weights='imagenet')"
   ]
  },
  {
   "cell_type": "code",
   "execution_count": 27,
   "metadata": {
    "scrolled": true
   },
   "outputs": [
    {
     "data": {
      "text/plain": [
       "[<tensorflow.python.keras.engine.input_layer.InputLayer at 0x28b1abfa970>,\n",
       " <tensorflow.python.keras.layers.convolutional.Conv2D at 0x28b82334fa0>,\n",
       " <tensorflow.python.keras.layers.normalization.BatchNormalization at 0x28b82334f10>,\n",
       " <tensorflow.python.keras.layers.advanced_activations.ReLU at 0x28b823c97f0>,\n",
       " <tensorflow.python.keras.layers.convolutional.DepthwiseConv2D at 0x28b823c9820>,\n",
       " <tensorflow.python.keras.layers.normalization.BatchNormalization at 0x28b823da850>,\n",
       " <tensorflow.python.keras.layers.advanced_activations.ReLU at 0x28b8242c970>,\n",
       " <tensorflow.python.keras.layers.convolutional.Conv2D at 0x28b82433820>,\n",
       " <tensorflow.python.keras.layers.normalization.BatchNormalization at 0x28b82451ac0>,\n",
       " <tensorflow.python.keras.layers.advanced_activations.ReLU at 0x28b8245d400>,\n",
       " <tensorflow.python.keras.layers.convolutional.ZeroPadding2D at 0x28b8245d280>,\n",
       " <tensorflow.python.keras.layers.convolutional.DepthwiseConv2D at 0x28b824721c0>,\n",
       " <tensorflow.python.keras.layers.normalization.BatchNormalization at 0x28b8345ce20>,\n",
       " <tensorflow.python.keras.layers.advanced_activations.ReLU at 0x28b83465760>,\n",
       " <tensorflow.python.keras.layers.convolutional.Conv2D at 0x28b83469f70>,\n",
       " <tensorflow.python.keras.layers.normalization.BatchNormalization at 0x28b8346bfa0>,\n",
       " <tensorflow.python.keras.layers.advanced_activations.ReLU at 0x28b8349cbb0>,\n",
       " <tensorflow.python.keras.layers.convolutional.DepthwiseConv2D at 0x28b8349ce20>,\n",
       " <tensorflow.python.keras.layers.normalization.BatchNormalization at 0x28b834c35e0>,\n",
       " <tensorflow.python.keras.layers.advanced_activations.ReLU at 0x28b834ce220>,\n",
       " <tensorflow.python.keras.layers.convolutional.Conv2D at 0x28b834ce190>,\n",
       " <tensorflow.python.keras.layers.normalization.BatchNormalization at 0x28b834d5460>,\n",
       " <tensorflow.python.keras.layers.advanced_activations.ReLU at 0x28b83505d00>,\n",
       " <tensorflow.python.keras.layers.convolutional.ZeroPadding2D at 0x28b835003d0>,\n",
       " <tensorflow.python.keras.layers.convolutional.DepthwiseConv2D at 0x28b8351c940>,\n",
       " <tensorflow.python.keras.layers.normalization.BatchNormalization at 0x28b83526c40>,\n",
       " <tensorflow.python.keras.layers.advanced_activations.ReLU at 0x28b8353a040>,\n",
       " <tensorflow.python.keras.layers.convolutional.Conv2D at 0x28b8353a310>,\n",
       " <tensorflow.python.keras.layers.normalization.BatchNormalization at 0x28b8354d580>,\n",
       " <tensorflow.python.keras.layers.advanced_activations.ReLU at 0x28b83569490>,\n",
       " <tensorflow.python.keras.layers.convolutional.DepthwiseConv2D at 0x28b83569550>,\n",
       " <tensorflow.python.keras.layers.normalization.BatchNormalization at 0x28b835705e0>,\n",
       " <tensorflow.python.keras.layers.advanced_activations.ReLU at 0x28b8359cf10>,\n",
       " <tensorflow.python.keras.layers.convolutional.Conv2D at 0x28b83570b20>,\n",
       " <tensorflow.python.keras.layers.normalization.BatchNormalization at 0x28b835b8340>,\n",
       " <tensorflow.python.keras.layers.advanced_activations.ReLU at 0x28b835783a0>,\n",
       " <tensorflow.python.keras.layers.convolutional.ZeroPadding2D at 0x28b835b8cd0>,\n",
       " <tensorflow.python.keras.layers.convolutional.DepthwiseConv2D at 0x28b835cf0a0>,\n",
       " <tensorflow.python.keras.layers.normalization.BatchNormalization at 0x28b835e5640>,\n",
       " <tensorflow.python.keras.layers.advanced_activations.ReLU at 0x28b83505730>,\n",
       " <tensorflow.python.keras.layers.convolutional.Conv2D at 0x28b83603be0>,\n",
       " <tensorflow.python.keras.layers.normalization.BatchNormalization at 0x28b836225b0>,\n",
       " <tensorflow.python.keras.layers.advanced_activations.ReLU at 0x28b835e1ee0>,\n",
       " <tensorflow.python.keras.layers.convolutional.DepthwiseConv2D at 0x28b83622d00>,\n",
       " <tensorflow.python.keras.layers.normalization.BatchNormalization at 0x28b8364eee0>,\n",
       " <tensorflow.python.keras.layers.advanced_activations.ReLU at 0x28b836144f0>,\n",
       " <tensorflow.python.keras.layers.convolutional.Conv2D at 0x28b8364ed00>,\n",
       " <tensorflow.python.keras.layers.normalization.BatchNormalization at 0x28b83675c70>,\n",
       " <tensorflow.python.keras.layers.advanced_activations.ReLU at 0x28b8364eeb0>,\n",
       " <tensorflow.python.keras.layers.convolutional.DepthwiseConv2D at 0x28b836a0370>,\n",
       " <tensorflow.python.keras.layers.normalization.BatchNormalization at 0x28b836b6d30>,\n",
       " <tensorflow.python.keras.layers.advanced_activations.ReLU at 0x28b83682d60>,\n",
       " <tensorflow.python.keras.layers.convolutional.Conv2D at 0x28b8366cc70>,\n",
       " <tensorflow.python.keras.layers.normalization.BatchNormalization at 0x28b836fe790>,\n",
       " <tensorflow.python.keras.layers.advanced_activations.ReLU at 0x28b836f2d90>,\n",
       " <tensorflow.python.keras.layers.convolutional.DepthwiseConv2D at 0x28b8370c580>,\n",
       " <tensorflow.python.keras.layers.normalization.BatchNormalization at 0x28b8371f940>,\n",
       " <tensorflow.python.keras.layers.advanced_activations.ReLU at 0x28b83734fa0>,\n",
       " <tensorflow.python.keras.layers.convolutional.Conv2D at 0x28b837171f0>,\n",
       " <tensorflow.python.keras.layers.normalization.BatchNormalization at 0x28b8375bca0>,\n",
       " <tensorflow.python.keras.layers.advanced_activations.ReLU at 0x28b837121f0>,\n",
       " <tensorflow.python.keras.layers.convolutional.DepthwiseConv2D at 0x28b8374c1c0>,\n",
       " <tensorflow.python.keras.layers.normalization.BatchNormalization at 0x28b83790460>,\n",
       " <tensorflow.python.keras.layers.advanced_activations.ReLU at 0x28b836b0d00>,\n",
       " <tensorflow.python.keras.layers.convolutional.Conv2D at 0x28b8378af70>,\n",
       " <tensorflow.python.keras.layers.normalization.BatchNormalization at 0x28b837b3490>,\n",
       " <tensorflow.python.keras.layers.advanced_activations.ReLU at 0x28b8376aac0>,\n",
       " <tensorflow.python.keras.layers.convolutional.DepthwiseConv2D at 0x28b837b38b0>,\n",
       " <tensorflow.python.keras.layers.normalization.BatchNormalization at 0x28b837d4910>,\n",
       " <tensorflow.python.keras.layers.advanced_activations.ReLU at 0x28b837ac070>,\n",
       " <tensorflow.python.keras.layers.convolutional.Conv2D at 0x28b837e8940>,\n",
       " <tensorflow.python.keras.layers.normalization.BatchNormalization at 0x28b8380f5e0>,\n",
       " <tensorflow.python.keras.layers.advanced_activations.ReLU at 0x28b8380f280>,\n",
       " <tensorflow.python.keras.layers.convolutional.ZeroPadding2D at 0x28b8381d8b0>,\n",
       " <tensorflow.python.keras.layers.convolutional.DepthwiseConv2D at 0x28b8383cfa0>,\n",
       " <tensorflow.python.keras.layers.normalization.BatchNormalization at 0x28b83842400>,\n",
       " <tensorflow.python.keras.layers.advanced_activations.ReLU at 0x28b8380a6a0>,\n",
       " <tensorflow.python.keras.layers.convolutional.Conv2D at 0x28b838506a0>,\n",
       " <tensorflow.python.keras.layers.normalization.BatchNormalization at 0x28b83899bb0>,\n",
       " <tensorflow.python.keras.layers.advanced_activations.ReLU at 0x28b83872bb0>,\n",
       " <tensorflow.python.keras.layers.convolutional.DepthwiseConv2D at 0x28b83887340>,\n",
       " <tensorflow.python.keras.layers.normalization.BatchNormalization at 0x28b838ad7c0>,\n",
       " <tensorflow.python.keras.layers.advanced_activations.ReLU at 0x28b8388f070>,\n",
       " <tensorflow.python.keras.layers.convolutional.Conv2D at 0x28b838dbeb0>,\n",
       " <tensorflow.python.keras.layers.normalization.BatchNormalization at 0x28b838f6c70>,\n",
       " <tensorflow.python.keras.layers.advanced_activations.ReLU at 0x28b838edc10>,\n",
       " <tensorflow.python.keras.layers.pooling.GlobalAveragePooling2D at 0x28b838f6370>,\n",
       " <tensorflow.python.keras.layers.core.Reshape at 0x28b83916610>,\n",
       " <tensorflow.python.keras.layers.core.Dropout at 0x28b83919040>,\n",
       " <tensorflow.python.keras.layers.convolutional.Conv2D at 0x28b8394a8b0>,\n",
       " <tensorflow.python.keras.layers.core.Reshape at 0x28b83953b50>,\n",
       " <tensorflow.python.keras.layers.core.Activation at 0x28b8395b730>]"
      ]
     },
     "execution_count": 27,
     "metadata": {},
     "output_type": "execute_result"
    }
   ],
   "source": [
    "model.layers"
   ]
  },
  {
   "cell_type": "code",
   "execution_count": 28,
   "metadata": {},
   "outputs": [],
   "source": [
    "from tensorflow.keras.preprocessing.image import load_img\n",
    "from keras.preprocessing import image\n",
    "import tensorflow as tf\n",
    "from tensorflow import Graph"
   ]
  },
  {
   "cell_type": "code",
   "execution_count": 29,
   "metadata": {},
   "outputs": [],
   "source": [
    "import tensorflow.compat.v1 as tf\n",
    "tf.disable_v2_behavior()"
   ]
  },
  {
   "cell_type": "code",
   "execution_count": 30,
   "metadata": {},
   "outputs": [],
   "source": [
    "img_height, img_width=224,224"
   ]
  },
  {
   "cell_type": "code",
   "execution_count": 31,
   "metadata": {},
   "outputs": [],
   "source": [
    "with open('imagenet_classes.json','r') as f:\n",
    "    labelInfo=f.read()"
   ]
  },
  {
   "cell_type": "code",
   "execution_count": 32,
   "metadata": {},
   "outputs": [],
   "source": [
    "import json"
   ]
  },
  {
   "cell_type": "code",
   "execution_count": 33,
   "metadata": {},
   "outputs": [],
   "source": [
    "labelInfo=json.loads(labelInfo)"
   ]
  },
  {
   "cell_type": "code",
   "execution_count": 34,
   "metadata": {},
   "outputs": [
    {
     "name": "stdout",
     "output_type": "stream",
     "text": [
      "Requirement already satisfied: pillow in c:\\users\\hpc-windows-8\\.conda\\envs\\deep1\\lib\\site-packages (8.1.0)\n",
      "Note: you may need to restart the kernel to use updated packages.\n"
     ]
    }
   ],
   "source": [
    "pip install pillow"
   ]
  },
  {
   "cell_type": "code",
   "execution_count": 35,
   "metadata": {},
   "outputs": [],
   "source": [
    "# labelInfo"
   ]
  },
  {
   "cell_type": "code",
   "execution_count": 36,
   "metadata": {},
   "outputs": [],
   "source": [
    "testimage='sumatran-tiger-wz-gsmp-m.jpg'"
   ]
  },
  {
   "cell_type": "code",
   "execution_count": 37,
   "metadata": {},
   "outputs": [],
   "source": [
    "img = image.load_img(testimage, target_size=(img_height, img_width))\n",
    "x = image.img_to_array(img)\n",
    "x=x/255\n",
    "x=x.reshape(1,img_height, img_width,3)"
   ]
  },
  {
   "cell_type": "code",
   "execution_count": 38,
   "metadata": {},
   "outputs": [
    {
     "name": "stderr",
     "output_type": "stream",
     "text": [
      "C:\\Users\\HPC-Windows-8\\.conda\\envs\\deep1\\lib\\site-packages\\tensorflow\\python\\keras\\engine\\training.py:2325: UserWarning: `Model.state_updates` will be removed in a future version. This property should not be used in TensorFlow 2.0, as `updates` are applied automatically.\n",
      "  warnings.warn('`Model.state_updates` will be removed in a future version. '\n"
     ]
    }
   ],
   "source": [
    "predi=model.predict(x)"
   ]
  },
  {
   "cell_type": "code",
   "execution_count": 39,
   "metadata": {},
   "outputs": [
    {
     "data": {
      "text/plain": [
       "array([[1.96414796e-09, 9.27418355e-08, 8.19617763e-10, 1.96778038e-10,\n",
       "        1.61578106e-09, 4.16272705e-09, 5.95134475e-09, 3.75578281e-07,\n",
       "        3.89514526e-07, 3.29285643e-09, 2.56339740e-06, 1.41355541e-08,\n",
       "        2.48203147e-08, 5.99906613e-08, 3.72896203e-09, 1.19973538e-06,\n",
       "        2.85833224e-08, 5.73643675e-08, 4.24471658e-09, 1.82485440e-08,\n",
       "        2.43251748e-07, 1.63495297e-08, 1.24577848e-10, 1.01550421e-08,\n",
       "        6.07008474e-07, 7.09093095e-09, 9.25634769e-09, 1.36074156e-08,\n",
       "        5.31611448e-08, 1.18663808e-08, 1.28712202e-06, 3.73918940e-09,\n",
       "        1.23827713e-08, 1.31728459e-08, 2.56815502e-09, 4.26830775e-06,\n",
       "        4.32879733e-06, 1.24070402e-06, 4.62102889e-08, 8.26879614e-07,\n",
       "        6.41847819e-08, 3.42858101e-07, 1.36569742e-08, 6.00533880e-08,\n",
       "        1.36558018e-08, 2.23536816e-08, 2.38427191e-07, 1.09827329e-08,\n",
       "        2.76658874e-08, 8.71017889e-08, 1.10663594e-08, 3.56656232e-10,\n",
       "        5.37638689e-09, 2.75250245e-09, 2.97843039e-09, 5.60547109e-10,\n",
       "        9.29488451e-08, 2.80132473e-09, 2.58578243e-08, 1.14743841e-08,\n",
       "        3.21103357e-07, 1.73826109e-07, 1.16904788e-08, 9.83479409e-10,\n",
       "        3.15947557e-09, 9.39766265e-10, 3.88981025e-09, 3.95982536e-09,\n",
       "        1.95029715e-10, 1.01573239e-09, 8.68583205e-10, 2.00112797e-08,\n",
       "        1.09233611e-06, 4.26420179e-08, 2.17845553e-07, 7.60243957e-09,\n",
       "        3.38746730e-07, 2.61430387e-07, 7.77268667e-08, 8.08663003e-07,\n",
       "        3.25387295e-09, 1.55646287e-08, 8.30372471e-07, 1.55214735e-07,\n",
       "        1.79439485e-08, 1.67226901e-07, 2.26152377e-08, 2.58269561e-09,\n",
       "        3.32269536e-07, 1.28428583e-08, 4.47831894e-07, 4.85219047e-08,\n",
       "        3.57058205e-08, 8.80576039e-08, 3.30334480e-08, 1.89202709e-07,\n",
       "        2.28875674e-09, 2.94528377e-07, 1.27932038e-08, 2.66042974e-08,\n",
       "        3.61029762e-10, 8.25283841e-10, 2.40377968e-10, 9.11076015e-08,\n",
       "        2.33631496e-07, 2.91540715e-07, 7.68862662e-08, 1.16323529e-09,\n",
       "        1.17806565e-09, 1.59081353e-08, 9.79905863e-08, 9.81305315e-11,\n",
       "        1.58544211e-09, 6.30980423e-08, 1.00344216e-07, 6.15800566e-09,\n",
       "        1.84413480e-07, 2.69842122e-08, 9.50799119e-07, 1.42251679e-07,\n",
       "        5.75747983e-09, 1.13383146e-06, 2.98414562e-07, 1.61379305e-07,\n",
       "        1.23245300e-07, 4.18019175e-09, 8.68075212e-09, 1.64263525e-09,\n",
       "        2.61756554e-08, 1.13957785e-08, 1.88028282e-09, 1.56488120e-08,\n",
       "        2.17074181e-08, 9.50492677e-07, 3.45182549e-09, 8.55210480e-09,\n",
       "        6.69039579e-09, 3.09017839e-10, 1.25753303e-07, 9.15154885e-08,\n",
       "        3.74021994e-07, 3.32900726e-07, 2.55824801e-07, 2.73481437e-09,\n",
       "        3.13082076e-08, 7.11531186e-07, 8.54780691e-11, 2.78171486e-09,\n",
       "        2.84080648e-10, 1.96401215e-10, 4.06985578e-07, 6.76074805e-08,\n",
       "        3.94246378e-08, 1.56455723e-10, 1.73884231e-08, 8.23846857e-09,\n",
       "        7.07488201e-09, 2.56051047e-09, 1.55969619e-08, 2.77808181e-06,\n",
       "        1.74266717e-08, 9.99642680e-08, 5.50796102e-08, 3.31896928e-08,\n",
       "        8.44114378e-09, 1.25179627e-08, 1.10514469e-08, 3.10627861e-08,\n",
       "        1.63476045e-07, 6.91001700e-09, 1.53135848e-09, 2.04361523e-08,\n",
       "        9.88917392e-10, 3.69187312e-08, 1.98195664e-08, 2.61234234e-09,\n",
       "        1.02730429e-08, 2.71380501e-10, 2.32127366e-08, 2.46123690e-08,\n",
       "        1.65955036e-08, 1.12442478e-09, 4.12654728e-08, 6.64419586e-09,\n",
       "        6.19930276e-08, 4.13210017e-08, 5.20356593e-08, 9.26698647e-08,\n",
       "        2.80274626e-09, 8.58271232e-09, 2.46590637e-09, 1.89011438e-08,\n",
       "        8.51384119e-09, 2.55848089e-08, 3.18990900e-09, 1.70350010e-08,\n",
       "        1.20518004e-08, 8.28569657e-09, 1.73474206e-07, 3.16433635e-09,\n",
       "        1.92548306e-08, 4.99802733e-09, 5.16342823e-07, 1.21702097e-08,\n",
       "        6.21493923e-09, 6.98259450e-09, 4.27430313e-10, 5.21939079e-08,\n",
       "        1.83901008e-07, 1.49623290e-07, 1.25333246e-08, 2.78608496e-07,\n",
       "        1.50519845e-08, 4.45283241e-08, 1.82369213e-08, 4.54533875e-07,\n",
       "        1.81312423e-08, 2.40463063e-08, 7.72136914e-08, 3.82457905e-08,\n",
       "        1.99472954e-08, 1.10221023e-08, 8.76256312e-09, 8.37341432e-08,\n",
       "        2.56086352e-08, 1.67757207e-07, 1.27687472e-09, 7.92552498e-07,\n",
       "        1.89557495e-10, 2.61467981e-09, 2.53062780e-08, 2.28361130e-09,\n",
       "        1.95278290e-07, 1.46124437e-08, 7.96445150e-08, 3.29351799e-08,\n",
       "        8.87514702e-08, 3.64942707e-07, 4.18057660e-08, 3.07360636e-07,\n",
       "        1.15330614e-07, 5.46451151e-09, 5.72937608e-07, 1.96278478e-07,\n",
       "        5.19102855e-07, 2.80858057e-08, 2.12441975e-08, 5.67783012e-08,\n",
       "        4.10658629e-07, 5.82345088e-08, 7.97470079e-07, 2.80587960e-06,\n",
       "        5.14854159e-10, 5.24863822e-07, 4.04520307e-07, 3.81886650e-07,\n",
       "        1.15379182e-08, 1.35854172e-09, 2.10657602e-09, 1.00679083e-08,\n",
       "        1.48066329e-06, 1.13997789e-08, 6.55468853e-07, 2.61484729e-07,\n",
       "        2.51189363e-07, 2.10046958e-09, 1.78125525e-09, 1.01640873e-09,\n",
       "        7.35489947e-10, 1.29079808e-07, 8.16218826e-09, 2.25326446e-07,\n",
       "        1.84438633e-07, 3.63525281e-08, 4.91383471e-05, 2.20888381e-07,\n",
       "        1.76886807e-08, 1.37553286e-07, 8.06540754e-08, 2.28073969e-08,\n",
       "        6.09631854e-07, 3.30491748e-04, 7.50558823e-02, 5.42224790e-08,\n",
       "        2.18296634e-07, 3.31586125e-05, 2.98501109e-05, 1.10136392e-03,\n",
       "        1.87444733e-04, 6.45210821e-05, 1.60368814e-04, 2.99540079e-06,\n",
       "        9.22531128e-01, 4.82581709e-06, 3.29685065e-07, 6.48821619e-09,\n",
       "        2.11688835e-08, 3.42546151e-08, 4.22570110e-07, 8.74573729e-08,\n",
       "        4.30372502e-08, 1.78164345e-08, 1.49564514e-07, 5.35140828e-07,\n",
       "        2.48287080e-07, 1.33052893e-08, 4.33569511e-07, 1.01107894e-07,\n",
       "        3.50961784e-08, 1.95028611e-06, 5.01344921e-08, 1.05803949e-07,\n",
       "        8.34764506e-08, 4.66292533e-08, 2.38161988e-07, 1.56652664e-08,\n",
       "        1.72892840e-07, 2.58808672e-08, 1.85869311e-08, 7.33786791e-08,\n",
       "        3.47394535e-09, 2.43092995e-08, 2.28650322e-07, 1.21069695e-06,\n",
       "        2.67952682e-08, 7.97240034e-08, 3.61523718e-07, 8.56768079e-09,\n",
       "        9.93784965e-09, 8.43575165e-09, 6.88208365e-06, 1.82936935e-06,\n",
       "        7.50530660e-08, 6.75993192e-07, 4.16282253e-09, 2.38012490e-06,\n",
       "        1.38005362e-06, 7.38726521e-06, 8.82100323e-07, 6.61213528e-09,\n",
       "        3.86428928e-06, 5.98059842e-06, 1.25629435e-06, 1.87055775e-08,\n",
       "        1.45730317e-08, 4.47761614e-08, 1.00747222e-09, 2.16782485e-08,\n",
       "        1.30498323e-08, 2.59164690e-09, 2.71396292e-08, 2.01605381e-08,\n",
       "        4.47331615e-07, 1.60703863e-07, 1.24486270e-08, 1.28912745e-07,\n",
       "        7.37139146e-07, 3.21329571e-06, 8.31335569e-08, 1.04896962e-08,\n",
       "        3.66839203e-07, 1.60910805e-08, 2.14254836e-08, 1.13212302e-08,\n",
       "        3.17616378e-09, 9.35662499e-08, 8.30225932e-09, 1.65450302e-08,\n",
       "        7.96379851e-08, 2.40643363e-08, 1.17821180e-07, 6.77253468e-07,\n",
       "        1.67650764e-08, 2.67127177e-07, 4.04581435e-08, 6.68604594e-09,\n",
       "        1.44384927e-07, 5.71733494e-07, 1.64794276e-08, 5.73995038e-08,\n",
       "        1.22192534e-06, 8.48261053e-08, 4.17799612e-07, 1.73432184e-07,\n",
       "        4.27876330e-07, 1.74880621e-09, 2.18188601e-09, 5.01269653e-07,\n",
       "        8.37090219e-09, 1.31814593e-09, 2.96453493e-08, 2.98312806e-08,\n",
       "        8.70527472e-09, 1.20265820e-09, 3.92350552e-09, 2.33769870e-09,\n",
       "        3.72773146e-09, 3.96053750e-08, 9.73447385e-08, 1.76539811e-10,\n",
       "        1.39660075e-10, 9.49036618e-08, 9.64135705e-09, 3.03031045e-10,\n",
       "        2.72297318e-09, 2.50263144e-10, 1.75916473e-08, 3.31470212e-10,\n",
       "        4.33758736e-08, 2.75350288e-07, 1.20178683e-07, 4.71179561e-07,\n",
       "        1.85415317e-07, 2.90006641e-09, 4.45118538e-08, 9.95637220e-06,\n",
       "        2.11487759e-07, 1.23779307e-08, 2.79910406e-08, 1.29933113e-07,\n",
       "        4.30997638e-08, 1.67485453e-07, 2.46743657e-08, 3.14368584e-08,\n",
       "        3.16903090e-08, 3.51751051e-09, 2.45525875e-08, 1.87429606e-07,\n",
       "        1.52371558e-06, 3.85285063e-07, 2.21391787e-07, 8.73431372e-09,\n",
       "        5.33467936e-09, 6.45609859e-08, 1.16823875e-08, 7.59328529e-08,\n",
       "        3.92321738e-07, 7.15496151e-09, 3.35331087e-08, 7.49335971e-09,\n",
       "        4.85688088e-06, 1.20604764e-05, 6.67047075e-08, 2.80592491e-08,\n",
       "        5.31986018e-07, 6.71312677e-08, 8.54211102e-09, 1.42851079e-07,\n",
       "        1.18736764e-07, 5.11727933e-07, 4.81648783e-08, 2.68043543e-09,\n",
       "        8.45595238e-09, 2.15770175e-08, 2.50137422e-08, 5.38255917e-05,\n",
       "        4.21439195e-09, 1.08564063e-06, 1.42408441e-09, 2.52733190e-09,\n",
       "        2.79640244e-09, 1.64411162e-09, 2.26284724e-09, 1.25784084e-06,\n",
       "        1.00344550e-08, 1.01810649e-09, 4.69315031e-10, 4.45544993e-06,\n",
       "        4.93813346e-08, 1.13378540e-07, 8.26477162e-08, 1.01544562e-09,\n",
       "        1.17399736e-06, 7.06580963e-08, 4.11807505e-10, 5.11420017e-09,\n",
       "        1.08126681e-08, 7.64607655e-10, 9.35753519e-08, 1.40217736e-07,\n",
       "        4.58960453e-10, 1.09832978e-08, 4.76218798e-09, 1.43983332e-08,\n",
       "        6.87940584e-08, 1.11525580e-08, 2.39814941e-08, 6.33336095e-09,\n",
       "        1.29378165e-07, 4.19606067e-07, 3.05168002e-09, 5.34572621e-07,\n",
       "        2.65424625e-08, 2.87504576e-09, 1.48733974e-07, 8.85949714e-09,\n",
       "        9.61903557e-10, 4.08197351e-08, 5.17681755e-08, 6.17376505e-09,\n",
       "        4.01421840e-10, 6.22351548e-09, 8.94977319e-08, 3.55922687e-08,\n",
       "        7.21316269e-07, 1.51319224e-08, 1.26280826e-08, 4.59421841e-07,\n",
       "        5.32119941e-07, 1.82100806e-07, 6.44542475e-10, 3.61916079e-08,\n",
       "        4.77803708e-09, 7.79940379e-08, 1.33362095e-08, 2.18934080e-08,\n",
       "        3.64462558e-08, 2.41943399e-09, 6.75727989e-08, 6.00185558e-07,\n",
       "        3.60164911e-08, 5.39008397e-07, 9.54378443e-09, 6.79748169e-08,\n",
       "        2.65859584e-10, 1.92683380e-09, 5.49948420e-10, 2.46227927e-08,\n",
       "        9.59291810e-08, 1.16821202e-08, 7.91479149e-09, 1.36404177e-08,\n",
       "        4.39584301e-06, 6.94743019e-09, 4.70109285e-08, 5.74337244e-10,\n",
       "        5.00928152e-08, 4.83056169e-07, 1.81987592e-09, 4.27251649e-07,\n",
       "        8.28730862e-09, 2.42860693e-07, 7.74532367e-08, 8.87713991e-09,\n",
       "        4.92935364e-08, 1.51654547e-06, 2.84119817e-09, 4.27344116e-09,\n",
       "        4.56018945e-10, 1.13231957e-08, 1.15335996e-09, 3.58354519e-08,\n",
       "        6.61099051e-08, 2.65094737e-08, 1.43903645e-09, 1.06686517e-08,\n",
       "        3.48228575e-08, 2.36092346e-09, 7.32083683e-09, 6.61891448e-08,\n",
       "        2.81530760e-07, 8.21408053e-10, 7.19093265e-08, 1.09921783e-09,\n",
       "        6.84927282e-10, 1.26846629e-07, 2.72427741e-07, 5.28092521e-08,\n",
       "        8.87847023e-07, 2.64730304e-09, 1.87715465e-09, 2.09984874e-09,\n",
       "        2.89371798e-07, 2.42810323e-08, 1.65600178e-09, 6.39830355e-10,\n",
       "        1.04044474e-07, 1.76875929e-07, 2.24370500e-09, 8.15663554e-08,\n",
       "        3.40594454e-07, 4.24039968e-07, 4.21083496e-06, 7.01967373e-10,\n",
       "        4.99697617e-10, 6.07646484e-08, 5.76031056e-10, 1.30996654e-07,\n",
       "        2.37773126e-08, 3.88173893e-09, 3.68194164e-09, 4.52586058e-09,\n",
       "        3.17128524e-07, 1.56015531e-07, 2.29363071e-08, 3.88046401e-10,\n",
       "        8.07273324e-08, 1.74812165e-10, 1.88144145e-09, 4.53093089e-05,\n",
       "        1.96859617e-09, 2.97532304e-10, 1.89703826e-06, 4.79831428e-08,\n",
       "        4.21259960e-09, 3.76965170e-09, 7.27006189e-09, 3.94254869e-07,\n",
       "        4.79989772e-08, 1.30022793e-08, 6.58153443e-09, 1.03145385e-06,\n",
       "        5.93108638e-08, 9.18231269e-10, 1.87822273e-08, 1.26714095e-09,\n",
       "        1.43335777e-09, 6.67589291e-08, 6.68703478e-07, 7.01396630e-08,\n",
       "        2.40341450e-07, 7.34909777e-09, 8.18793978e-07, 7.40206296e-09,\n",
       "        6.36042952e-09, 3.63320282e-07, 3.69056715e-06, 3.40617284e-10,\n",
       "        2.07106758e-08, 1.21785626e-09, 7.60197183e-10, 1.51321533e-08,\n",
       "        4.19688861e-09, 3.84533649e-07, 8.66183125e-09, 3.39438593e-08,\n",
       "        2.81096946e-09, 2.23654499e-08, 1.16997086e-07, 8.75038836e-07,\n",
       "        2.34287212e-09, 1.45941437e-08, 9.64807327e-07, 1.25372040e-07,\n",
       "        2.66875961e-08, 8.86541007e-10, 1.52967790e-08, 4.68881574e-08,\n",
       "        2.76168031e-08, 5.58442681e-10, 2.47461944e-08, 3.28319416e-08,\n",
       "        2.37748377e-10, 4.66708947e-08, 2.15901075e-08, 6.33169428e-09,\n",
       "        1.52990243e-08, 8.72045491e-11, 3.45493788e-07, 2.84293037e-07,\n",
       "        3.40479289e-08, 6.36906083e-09, 3.11240922e-09, 5.24399546e-09,\n",
       "        1.55084805e-07, 8.56500577e-08, 1.98933812e-08, 2.81352399e-08,\n",
       "        1.98557681e-09, 2.05228212e-09, 1.75530616e-07, 2.97757996e-08,\n",
       "        1.47092727e-09, 1.01257079e-07, 3.05044687e-05, 7.10552228e-10,\n",
       "        6.42350031e-08, 8.19009074e-08, 2.18441052e-08, 1.72823178e-08,\n",
       "        5.62700508e-09, 4.13566159e-09, 1.69924007e-07, 4.80576077e-08,\n",
       "        1.26160460e-08, 2.23128604e-09, 7.32575423e-09, 7.28511225e-08,\n",
       "        5.76646675e-10, 1.35464495e-09, 4.50914719e-08, 5.79250425e-10,\n",
       "        7.62580754e-09, 1.14572390e-06, 7.82715261e-08, 2.29730077e-07,\n",
       "        5.07108311e-09, 7.20825932e-09, 1.78272529e-07, 5.68619329e-09,\n",
       "        2.36981350e-07, 4.91821028e-10, 1.06555404e-07, 3.30545618e-08,\n",
       "        2.28268604e-07, 4.82312279e-09, 2.36233344e-09, 4.59578473e-08,\n",
       "        7.05617287e-10, 4.84187979e-07, 7.12496373e-08, 1.67228492e-07,\n",
       "        7.95299115e-08, 7.45415452e-10, 4.43681820e-08, 6.25900221e-09,\n",
       "        5.36257630e-07, 7.45794093e-09, 1.45563839e-09, 6.55419115e-08,\n",
       "        1.22839992e-07, 2.84745489e-08, 2.10697817e-05, 6.50955789e-10,\n",
       "        6.01348873e-08, 3.62751450e-07, 2.80104673e-09, 6.11535356e-09,\n",
       "        4.22716852e-07, 1.15510204e-06, 5.34959677e-09, 2.15146045e-07,\n",
       "        1.26073318e-09, 2.63355560e-08, 2.14546714e-09, 2.62741806e-09,\n",
       "        3.45043141e-08, 7.63398589e-07, 3.61735957e-08, 2.73968559e-09,\n",
       "        8.36078584e-09, 8.11158216e-08, 2.14795463e-07, 2.26200148e-09,\n",
       "        1.39992101e-10, 3.43353623e-10, 4.04588363e-08, 1.77339743e-07,\n",
       "        2.04872794e-08, 4.75989959e-09, 6.37816015e-07, 2.08205688e-06,\n",
       "        1.83318143e-08, 8.47235970e-06, 7.83259946e-09, 1.23403662e-10,\n",
       "        1.75877133e-07, 3.17944293e-09, 8.16400991e-09, 3.50175426e-08,\n",
       "        6.94791424e-07, 2.91995494e-08, 9.78224398e-06, 2.31123498e-09,\n",
       "        1.40967760e-09, 5.52216264e-08, 1.62323644e-07, 7.91900501e-09,\n",
       "        5.55247404e-08, 2.80307518e-07, 2.81440435e-08, 9.09163855e-10,\n",
       "        6.81101442e-09, 1.41048395e-06, 2.07134709e-09, 2.02488639e-08,\n",
       "        1.14980443e-08, 5.40218481e-10, 6.27239904e-09, 9.66339968e-08,\n",
       "        9.48815781e-08, 5.16367671e-10, 2.71094152e-08, 5.78481441e-08,\n",
       "        1.62840422e-07, 1.74954018e-09, 3.37968231e-08, 1.20050894e-08,\n",
       "        2.21797212e-08, 3.74081566e-09, 3.30725038e-06, 1.29674834e-06,\n",
       "        1.26027643e-07, 2.44326213e-08, 3.76616605e-09, 4.32466685e-08,\n",
       "        2.22103722e-08, 1.23184138e-08, 1.85804006e-09, 8.51186499e-08,\n",
       "        3.74058224e-08, 1.96826946e-07, 9.39680689e-09, 7.48580646e-08,\n",
       "        3.07093870e-08, 3.37816779e-08, 1.67765364e-07, 8.54322724e-11,\n",
       "        1.63576388e-08, 1.97741429e-06, 5.41968070e-09, 1.11484482e-07,\n",
       "        4.82877238e-10, 5.95327492e-07, 5.39404610e-08, 1.23089777e-07,\n",
       "        9.95311922e-09, 3.33354855e-08, 9.27021659e-09, 1.53062931e-08,\n",
       "        1.21083898e-08, 2.96055536e-09, 1.81820381e-09, 4.31458869e-09,\n",
       "        2.51923704e-09, 6.07239148e-10, 8.04318177e-07, 1.26664865e-08,\n",
       "        1.00346710e-07, 6.26234575e-09, 3.99755073e-08, 2.02296775e-08,\n",
       "        1.04852909e-07, 3.41874329e-09, 8.51619575e-09, 5.86226356e-09,\n",
       "        1.85945908e-08, 1.73652861e-08, 1.25976989e-08, 7.55197238e-09,\n",
       "        5.18740322e-08, 8.34736227e-07, 1.70977685e-07, 1.36593190e-08,\n",
       "        2.22679208e-09, 1.79715549e-08, 4.78138361e-07, 1.86805371e-09,\n",
       "        3.03725434e-10, 5.49192158e-08, 7.92875738e-08, 5.22451726e-09,\n",
       "        9.83769226e-08, 3.75969966e-09, 2.87152861e-08, 1.09861958e-07,\n",
       "        3.74201425e-09, 7.96075650e-09, 5.54093971e-09, 1.69846976e-06,\n",
       "        1.05744938e-07, 1.43133013e-06, 7.13848536e-08, 4.63247263e-09,\n",
       "        1.71064929e-09, 2.85123861e-07, 1.45602164e-09, 7.06294934e-09,\n",
       "        1.91681875e-06, 6.38589237e-10, 5.85869259e-07, 6.66900446e-09,\n",
       "        3.40877460e-09, 1.15477805e-08, 7.49226958e-10, 1.33926278e-07,\n",
       "        1.07299252e-06, 4.32556639e-08, 9.87438824e-08, 4.40301884e-09,\n",
       "        1.16540178e-07, 1.54574508e-07, 6.18859586e-09, 6.90376325e-08,\n",
       "        9.68932579e-09, 2.96667735e-09, 1.30200730e-08, 1.72614245e-09,\n",
       "        3.11929127e-09, 3.37834365e-07, 5.34427302e-09, 3.67866022e-07,\n",
       "        3.44903498e-07, 4.24766444e-09, 4.92495289e-09, 1.94982475e-10,\n",
       "        7.43749995e-09, 2.47676191e-09, 3.70322759e-08, 8.90978583e-07,\n",
       "        1.19247590e-08, 5.62788856e-08, 3.35877743e-08, 1.95860093e-08,\n",
       "        1.28144507e-06, 9.65943769e-08, 1.41419121e-09, 2.26449774e-08,\n",
       "        3.20161037e-10, 2.49830236e-07, 3.02882017e-06, 4.27087663e-08,\n",
       "        7.42004325e-09, 4.81261697e-10, 2.29628334e-08, 5.08192732e-09,\n",
       "        2.19647944e-09, 6.15375541e-07, 2.83398514e-08, 4.84430274e-08,\n",
       "        4.91072294e-09, 6.73720351e-08, 5.46671401e-08, 1.02071056e-06,\n",
       "        2.42609879e-08, 8.49053805e-09, 5.50354343e-07, 1.31369416e-06,\n",
       "        6.89869921e-07, 2.67126279e-06, 2.87038188e-06, 4.49585542e-07,\n",
       "        1.16314659e-07, 6.29724894e-09, 2.06433174e-06, 6.57898681e-07,\n",
       "        1.00006927e-08, 1.21046085e-07, 3.25375197e-07, 1.14398090e-05,\n",
       "        7.72764224e-07, 1.89635809e-08, 7.65946595e-07, 1.13072950e-07,\n",
       "        2.17570761e-08, 4.08490237e-08, 1.28002826e-08, 2.29780483e-07,\n",
       "        6.88242494e-08, 6.07141374e-06, 1.98775382e-07, 1.02610773e-08,\n",
       "        2.40267752e-08, 2.65311144e-07, 2.14211838e-07, 1.24618197e-07,\n",
       "        1.40763301e-09, 7.01722115e-07, 5.06114928e-09, 7.56528280e-08,\n",
       "        2.52431528e-06, 2.06857365e-07, 2.49710411e-07, 8.94447567e-06,\n",
       "        9.69501002e-07, 5.15725014e-06, 2.33878819e-08, 3.53496745e-07,\n",
       "        2.66013444e-07, 4.63044762e-06, 3.02503955e-09, 5.06928650e-08,\n",
       "        4.27317015e-10, 1.34066003e-08, 8.27999784e-08, 2.35495641e-08,\n",
       "        3.02205239e-09, 2.28979591e-09, 1.30505001e-07, 1.46171197e-09,\n",
       "        6.51885523e-09, 6.70824685e-09, 1.17688268e-08, 1.27739899e-08,\n",
       "        6.39603792e-09, 6.33598285e-09, 2.28308224e-07, 3.68597716e-06,\n",
       "        3.72704889e-09, 1.76921148e-07, 1.74706685e-08, 1.18346462e-08,\n",
       "        1.48456136e-08, 4.38709957e-09, 1.80556317e-08, 3.39946560e-08,\n",
       "        7.62114283e-08, 4.04023723e-07, 3.75115803e-07, 1.19947670e-08]],\n",
       "      dtype=float32)"
      ]
     },
     "execution_count": 39,
     "metadata": {},
     "output_type": "execute_result"
    }
   ],
   "source": [
    "predi"
   ]
  },
  {
   "cell_type": "code",
   "execution_count": 40,
   "metadata": {},
   "outputs": [],
   "source": [
    "# img = image.load_img(testimage, target_size=(img_height, img_width))\n",
    "# x = image.img_to_array(img)\n",
    "# x=x/255\n",
    "# x=x.reshape(1,img_height, img_width,3)\n",
    "# model_graph = modeScope['modelObj']['model_graph']\n",
    "# tf_session = modeScope['modelObj']['tf_session']\n",
    "# with model_graph.as_default():\n",
    "#     with tf_session.as_default():\n",
    "#         modelToUse=modeScope['modelObj']['recoModelObj'].model\n",
    "#         predi=modelToUse.predict(x)"
   ]
  },
  {
   "cell_type": "code",
   "execution_count": 41,
   "metadata": {},
   "outputs": [
    {
     "data": {
      "text/plain": [
       "292"
      ]
     },
     "execution_count": 41,
     "metadata": {},
     "output_type": "execute_result"
    }
   ],
   "source": [
    "import numpy as np\n",
    "np.argmax(predi[0])"
   ]
  },
  {
   "cell_type": "code",
   "execution_count": 42,
   "metadata": {},
   "outputs": [
    {
     "data": {
      "text/plain": [
       "['n02129604', 'tiger']"
      ]
     },
     "execution_count": 42,
     "metadata": {},
     "output_type": "execute_result"
    }
   ],
   "source": [
    "labelInfo['292']"
   ]
  },
  {
   "cell_type": "code",
   "execution_count": 44,
   "metadata": {},
   "outputs": [],
   "source": [
    "#testimage='bird-article-s.png'\n",
    "#img = image.load_img(testimage, target_size=(img_height, img_width))\n",
    "#x = image.img_to_array(img)\n",
    "#x=x/255\n",
    "#x=x.reshape(1,img_height, img_width,3)\n",
    "# model_graph = tf.\n",
    "# tf_session = modeScope['modelObj']['tf_session']\n",
    "# with model_graph.as_default():\n",
    "#     with tf_session.as_default():\n",
    "#         modelToUse=modeScope['modelObj']['recoModelObj'].model\n",
    "predi=model.predict(x)"
   ]
  },
  {
   "cell_type": "code",
   "execution_count": 45,
   "metadata": {},
   "outputs": [
    {
     "data": {
      "text/plain": [
       "292"
      ]
     },
     "execution_count": 45,
     "metadata": {},
     "output_type": "execute_result"
    }
   ],
   "source": [
    "import numpy as np\n",
    "np.argmax(predi[0])"
   ]
  },
  {
   "cell_type": "code",
   "execution_count": 46,
   "metadata": {},
   "outputs": [
    {
     "data": {
      "text/plain": [
       "['n01531178', 'goldfinch']"
      ]
     },
     "execution_count": 46,
     "metadata": {},
     "output_type": "execute_result"
    }
   ],
   "source": [
    "labelInfo['11']"
   ]
  },
  {
   "cell_type": "code",
   "execution_count": 47,
   "metadata": {},
   "outputs": [],
   "source": [
    "model.save('MobileNetModelImagenet.h5')"
   ]
  },
  {
   "cell_type": "code",
   "execution_count": 48,
   "metadata": {},
   "outputs": [],
   "source": [
    "import keras"
   ]
  },
  {
   "cell_type": "code",
   "execution_count": 49,
   "metadata": {},
   "outputs": [],
   "source": [
    "from keras.models import load_model"
   ]
  },
  {
   "cell_type": "code",
   "execution_count": 50,
   "metadata": {},
   "outputs": [
    {
     "name": "stdout",
     "output_type": "stream",
     "text": [
      "WARNING:tensorflow:From C:\\Users\\HPC-Windows-8\\.conda\\envs\\deep1\\lib\\site-packages\\tensorflow\\python\\ops\\init_ops.py:97: calling GlorotUniform.__init__ (from tensorflow.python.ops.init_ops) with dtype is deprecated and will be removed in a future version.\n",
      "Instructions for updating:\n",
      "Call initializer instance with the dtype argument instead of passing it to the constructor\n",
      "WARNING:tensorflow:From C:\\Users\\HPC-Windows-8\\.conda\\envs\\deep1\\lib\\site-packages\\tensorflow\\python\\ops\\init_ops.py:97: calling Zeros.__init__ (from tensorflow.python.ops.init_ops) with dtype is deprecated and will be removed in a future version.\n",
      "Instructions for updating:\n",
      "Call initializer instance with the dtype argument instead of passing it to the constructor\n",
      "WARNING:tensorflow:From C:\\Users\\HPC-Windows-8\\.conda\\envs\\deep1\\lib\\site-packages\\tensorflow\\python\\ops\\init_ops.py:97: calling Ones.__init__ (from tensorflow.python.ops.init_ops) with dtype is deprecated and will be removed in a future version.\n",
      "Instructions for updating:\n",
      "Call initializer instance with the dtype argument instead of passing it to the constructor\n",
      "WARNING:tensorflow:No training configuration found in the save file, so the model was *not* compiled. Compile it manually.\n"
     ]
    },
    {
     "data": {
      "text/plain": [
       "<tensorflow.python.keras.engine.functional.Functional at 0x28b859b8ac0>"
      ]
     },
     "execution_count": 50,
     "metadata": {},
     "output_type": "execute_result"
    }
   ],
   "source": [
    "load_model('MobileNetModelImagenet.h5')"
   ]
  },
  {
   "cell_type": "code",
   "execution_count": null,
   "metadata": {},
   "outputs": [],
   "source": []
  }
 ],
 "metadata": {
  "kernelspec": {
   "display_name": "Python 3",
   "language": "python",
   "name": "python3"
  },
  "language_info": {
   "codemirror_mode": {
    "name": "ipython",
    "version": 3
   },
   "file_extension": ".py",
   "mimetype": "text/x-python",
   "name": "python",
   "nbconvert_exporter": "python",
   "pygments_lexer": "ipython3",
   "version": "3.8.5"
  }
 },
 "nbformat": 4,
 "nbformat_minor": 2
}
